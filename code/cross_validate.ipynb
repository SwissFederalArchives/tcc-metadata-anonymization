{
 "cells": [
  {
   "cell_type": "code",
   "execution_count": 1,
   "id": "6eb67089",
   "metadata": {},
   "outputs": [],
   "source": [
    "import sys\n",
    "import os\n",
    "\n",
    "import pandas as pd\n",
    "import numpy as np\n",
    "\n",
    "import statistics\n",
    "import re\n",
    "import logging\n",
    "\n",
    "import sklearn\n",
    "from sklearn import metrics\n",
    "from sklearn.model_selection import KFold, train_test_split"
   ]
  },
  {
   "cell_type": "code",
   "execution_count": 2,
   "id": "48bd338a",
   "metadata": {},
   "outputs": [],
   "source": [
    "sys.path.append('lib')\n",
    "\n",
    "from train_models import prepare_training, train_classifiers\n",
    "from predict_labels import BARModels\n",
    "from bar_tools import plot_confusion_matrix"
   ]
  },
  {
   "cell_type": "code",
   "execution_count": 3,
   "id": "161ccca1",
   "metadata": {},
   "outputs": [],
   "source": [
    "logger = logging.getLogger()\n",
    "logger.setLevel('INFO')"
   ]
  },
  {
   "cell_type": "markdown",
   "id": "78575748",
   "metadata": {},
   "source": [
    "## Set up paths and parameters"
   ]
  },
  {
   "cell_type": "code",
   "execution_count": 4,
   "id": "04ac852b",
   "metadata": {},
   "outputs": [],
   "source": [
    "in_path = '../data_syn/annotated_data_example.tsv'  # path to training data\n",
    "models_dir = '../saved_models'"
   ]
  },
  {
   "cell_type": "code",
   "execution_count": 5,
   "id": "f24e5f20",
   "metadata": {},
   "outputs": [],
   "source": [
    "dictionary_paths = {'personnames_path': '../data_syn//dictionaries/personnames.tsv',\n",
    "                    'placenames_path': '../data_syn/dictionaries/schweizer_ortsnamen-wikipedia.csv',\n",
    "                    'firmnames_path': '../data_syn/dictionaries/firmnames_unigrams.tsv',\n",
    "                    'commonwords_path': '../data_syn/dictionaries/deu_news_2010_1M-words-LOWER.tsv'}"
   ]
  },
  {
   "cell_type": "code",
   "execution_count": 6,
   "id": "c7139c09",
   "metadata": {},
   "outputs": [],
   "source": [
    "anno_field = 'TITEL'\n",
    "context_field = 'HIERARCHIE'\n",
    "id_field = 'IDENTIFIER'\n",
    "context_window = '4'"
   ]
  },
  {
   "cell_type": "markdown",
   "id": "27a77e8b",
   "metadata": {},
   "source": [
    "## Prepare Data"
   ]
  },
  {
   "cell_type": "code",
   "execution_count": 7,
   "id": "68ba86e8",
   "metadata": {},
   "outputs": [
    {
     "data": {
      "text/html": [
       "<div>\n",
       "<style scoped>\n",
       "    .dataframe tbody tr th:only-of-type {\n",
       "        vertical-align: middle;\n",
       "    }\n",
       "\n",
       "    .dataframe tbody tr th {\n",
       "        vertical-align: top;\n",
       "    }\n",
       "\n",
       "    .dataframe thead th {\n",
       "        text-align: right;\n",
       "    }\n",
       "</style>\n",
       "<table border=\"1\" class=\"dataframe\">\n",
       "  <thead>\n",
       "    <tr style=\"text-align: right;\">\n",
       "      <th></th>\n",
       "      <th>IDENTIFIER</th>\n",
       "      <th>HIERARCHIE</th>\n",
       "      <th>TITEL</th>\n",
       "    </tr>\n",
       "  </thead>\n",
       "  <tbody>\n",
       "    <tr>\n",
       "      <th>0</th>\n",
       "      <td>ID-1</td>\n",
       "      <td>Straffälle\\n - \\n - \\n -  und Ausfuhrregelung...</td>\n",
       "      <td>YU: &lt;j&gt;Vahuret&lt;/j&gt;, Givisiez CH-FR</td>\n",
       "    </tr>\n",
       "    <tr>\n",
       "      <th>1</th>\n",
       "      <td>ID-2</td>\n",
       "      <td>Informelles, Vorprüfung, Prüfung und Rechtsmit...</td>\n",
       "      <td>&lt;j&gt;Emacite, S.A.&lt;/j&gt; (&lt;wd&gt;7.4.&lt;/wd&gt; - &lt;wd&gt;31.5...</td>\n",
       "    </tr>\n",
       "    <tr>\n",
       "      <th>2</th>\n",
       "      <td>ID-3</td>\n",
       "      <td>Dossier N 141000 - 141999\\n - Asyldossiers\\n -...</td>\n",
       "      <td>&lt;n&gt;Anopug&lt;/n&gt; . &lt;d&gt;14.03.1976&lt;/d&gt;</td>\n",
       "    </tr>\n",
       "    <tr>\n",
       "      <th>3</th>\n",
       "      <td>ID-4</td>\n",
       "      <td>Benutzer \\n -  Benützer (LfNr) / Standort der...</td>\n",
       "      <td>&lt;n&gt;Presseservice Epihu GmbH&lt;/n&gt;</td>\n",
       "    </tr>\n",
       "    <tr>\n",
       "      <th>4</th>\n",
       "      <td>ID-5</td>\n",
       "      <td>Allgemeine Personalfragen; Personaldossiers\\n ...</td>\n",
       "      <td>&lt;n&gt;Auyeci unlimited GmbH&lt;/n&gt; &lt;d&gt;1968&lt;/d&gt;</td>\n",
       "    </tr>\n",
       "    <tr>\n",
       "      <th>...</th>\n",
       "      <td>...</td>\n",
       "      <td>...</td>\n",
       "      <td>...</td>\n",
       "    </tr>\n",
       "    <tr>\n",
       "      <th>995</th>\n",
       "      <td>ID-996</td>\n",
       "      <td>Divisionsgericht 1\\n -  Territorialgericht 3 A...</td>\n",
       "      <td>&lt;n&gt;Yopec, Sàrl&lt;/n&gt;, Matr.-Nr. &lt;a&gt;125.76.465&lt;/a...</td>\n",
       "    </tr>\n",
       "    <tr>\n",
       "      <th>996</th>\n",
       "      <td>ID-997</td>\n",
       "      <td>Rekurse (nach Laufnummern)\\n -  Rekurskommissi...</td>\n",
       "      <td>&lt;j&gt;Huwib GmbH&lt;/j&gt;</td>\n",
       "    </tr>\n",
       "    <tr>\n",
       "      <th>997</th>\n",
       "      <td>ID-998</td>\n",
       "      <td>Asile - Cas particuliers\\n - Asyl   |   Asile\\...</td>\n",
       "      <td>Asile - Cas particuliers - &lt;n&gt;Wupov GmbH&lt;/n&gt;, ...</td>\n",
       "    </tr>\n",
       "    <tr>\n",
       "      <th>998</th>\n",
       "      <td>ID-999</td>\n",
       "      <td>Immatrikulationsdossiers   |   Dossiers d'imma...</td>\n",
       "      <td>&lt;n&gt;Boulangerie Oseoro, Sàrl&lt;/n&gt;          &lt;d&gt;06...</td>\n",
       "    </tr>\n",
       "    <tr>\n",
       "      <th>999</th>\n",
       "      <td>ID-1000</td>\n",
       "      <td>Beschwerden an den Bundesrat\\n - Strafrecht\\n ...</td>\n",
       "      <td>&lt;j&gt;Duwev GmbH&lt;/j&gt;, Munizipalgemeinde Visp, Nie...</td>\n",
       "    </tr>\n",
       "  </tbody>\n",
       "</table>\n",
       "<p>1000 rows × 3 columns</p>\n",
       "</div>"
      ],
      "text/plain": [
       "    IDENTIFIER                                         HIERARCHIE  \\\n",
       "0         ID-1   Straffälle\\n - \\n - \\n -  und Ausfuhrregelung...   \n",
       "1         ID-2  Informelles, Vorprüfung, Prüfung und Rechtsmit...   \n",
       "2         ID-3  Dossier N 141000 - 141999\\n - Asyldossiers\\n -...   \n",
       "3         ID-4   Benutzer \\n -  Benützer (LfNr) / Standort der...   \n",
       "4         ID-5  Allgemeine Personalfragen; Personaldossiers\\n ...   \n",
       "..         ...                                                ...   \n",
       "995     ID-996  Divisionsgericht 1\\n -  Territorialgericht 3 A...   \n",
       "996     ID-997  Rekurse (nach Laufnummern)\\n -  Rekurskommissi...   \n",
       "997     ID-998  Asile - Cas particuliers\\n - Asyl   |   Asile\\...   \n",
       "998     ID-999  Immatrikulationsdossiers   |   Dossiers d'imma...   \n",
       "999    ID-1000  Beschwerden an den Bundesrat\\n - Strafrecht\\n ...   \n",
       "\n",
       "                                                 TITEL  \n",
       "0                   YU: <j>Vahuret</j>, Givisiez CH-FR  \n",
       "1    <j>Emacite, S.A.</j> (<wd>7.4.</wd> - <wd>31.5...  \n",
       "2                    <n>Anopug</n> . <d>14.03.1976</d>  \n",
       "3                      <n>Presseservice Epihu GmbH</n>  \n",
       "4             <n>Auyeci unlimited GmbH</n> <d>1968</d>  \n",
       "..                                                 ...  \n",
       "995  <n>Yopec, Sàrl</n>, Matr.-Nr. <a>125.76.465</a...  \n",
       "996                                  <j>Huwib GmbH</j>  \n",
       "997  Asile - Cas particuliers - <n>Wupov GmbH</n>, ...  \n",
       "998  <n>Boulangerie Oseoro, Sàrl</n>          <d>06...  \n",
       "999  <j>Duwev GmbH</j>, Munizipalgemeinde Visp, Nie...  \n",
       "\n",
       "[1000 rows x 3 columns]"
      ]
     },
     "execution_count": 7,
     "metadata": {},
     "output_type": "execute_result"
    }
   ],
   "source": [
    "# read data into data frame\n",
    "in_df = pd.read_csv(in_path, sep='\\t')\n",
    "in_df"
   ]
  },
  {
   "cell_type": "code",
   "execution_count": 8,
   "id": "2e720999",
   "metadata": {},
   "outputs": [
    {
     "name": "stderr",
     "output_type": "stream",
     "text": [
      "INFO:root:Number of lines in input data: 1000\n",
      "INFO:root:Tokenizer initiated\n",
      "INFO:root:Building feature overview... (This may take some time)\n"
     ]
    }
   ],
   "source": [
    "# run feature extraction\n",
    "\n",
    "((tok_feat_df, tok_anno), (doc_feat_df, doc_anno)) = prepare_training(in_df, dictionary_paths, anno_field=anno_field, context_field=context_field, id_field=id_field)"
   ]
  },
  {
   "cell_type": "code",
   "execution_count": 9,
   "id": "d86304a7",
   "metadata": {},
   "outputs": [
    {
     "name": "stdout",
     "output_type": "stream",
     "text": [
      "      IDENTIFIER  td-idx                                       tok_features\n",
      "0           ID-1       0  {'token': 'YU', 'pos_fine': 'NE', 'lemma': 'YU...\n",
      "1           ID-1       1  {'token': ':', 'pos_fine': '$.', 'lemma': ':',...\n",
      "2           ID-1       2  {'token': 'Vahuret', 'pos_fine': 'NE', 'lemma'...\n",
      "3           ID-1       3  {'token': ',', 'pos_fine': '$,', 'lemma': ',',...\n",
      "4           ID-1       4  {'token': 'Givisiez', 'pos_fine': 'NE', 'lemma...\n",
      "...          ...     ...                                                ...\n",
      "11655    ID-1000   11655  {'token': '.', 'pos_fine': '$.', 'lemma': '.',...\n",
      "11656    ID-1000   11656  {'token': '6', 'pos_fine': 'CARD', 'lemma': '6...\n",
      "11657    ID-1000   11657  {'token': '.', 'pos_fine': '$.', 'lemma': '.',...\n",
      "11658    ID-1000   11658  {'token': '02', 'pos_fine': 'CARD', 'lemma': '...\n",
      "11659    ID-1000   11659  {'token': 'Gegenstandslos', 'pos_fine': 'NN', ...\n",
      "\n",
      "[11660 rows x 3 columns]\n",
      "      IDENTIFIER  td-idx annotation\n",
      "0           ID-1       0          O\n",
      "1           ID-1       1          p\n",
      "2           ID-1       2          j\n",
      "3           ID-1       3          p\n",
      "4           ID-1       4          O\n",
      "...          ...     ...        ...\n",
      "11655    ID-1000   11655         wd\n",
      "11656    ID-1000   11656         wd\n",
      "11657    ID-1000   11657         wd\n",
      "11658    ID-1000   11658         wd\n",
      "11659    ID-1000   11659          O\n",
      "\n",
      "[11660 rows x 3 columns]\n"
     ]
    }
   ],
   "source": [
    "print(tok_feat_df)\n",
    "print(tok_anno)"
   ]
  },
  {
   "cell_type": "code",
   "execution_count": 22,
   "id": "06d93a70",
   "metadata": {},
   "outputs": [
    {
     "data": {
      "text/plain": [
       "{'token': 'YU',\n",
       " 'pos_fine': 'NE',\n",
       " 'lemma': 'YU',\n",
       " 'lower': 'yu',\n",
       " 'shape': 'XX',\n",
       " 'is_alpha': 'True',\n",
       " 'is_digit': 'False',\n",
       " 'is_punct': 'False',\n",
       " 'is_left_punct': 'False',\n",
       " 'is_right_punct': 'False',\n",
       " 'like_num': 'False',\n",
       " 'is_stop': 'False',\n",
       " 'datecheck': 'False',\n",
       " 'ahvcheck': 'False',\n",
       " 'hierarchie': ' Stra',\n",
       " 'in_personnames': 'False',\n",
       " 'in_swissplaces': 'False',\n",
       " 'in_register': 'False',\n",
       " 'common_words': 'True',\n",
       " 'length': '2',\n",
       " 'in_hier:Beziehungen': 'True',\n",
       " 'in_hier:zu': 'True',\n",
       " 'in_hier:Ausfuhrregelungen': 'True',\n",
       " 'in_hier:einzelnen': 'True',\n",
       " 'in_hier:Straffälle': 'True',\n",
       " 'in_hier:und': 'True',\n",
       " 'in_hier:Warenverkehr': 'True',\n",
       " 'in_hier:Staaten': 'True',\n",
       " 's_ngram:X': 'True',\n",
       " 'lower-1': 'BOS',\n",
       " 'lower+1': ':',\n",
       " 'pos+1': '$.',\n",
       " 'is_punct+1': 'True',\n",
       " 'shape+1': ':',\n",
       " 'lower-2': 'BOS',\n",
       " 'lower+2': 'vahuret',\n",
       " 'pos+2': 'NE',\n",
       " 'is_punct+2': 'False',\n",
       " 'shape+2': 'Xxxxx',\n",
       " 'lower-3': 'BOS',\n",
       " 'lower+3': ',',\n",
       " 'pos+3': '$,',\n",
       " 'is_punct+3': 'True',\n",
       " 'shape+3': ',',\n",
       " 'lower-4': 'BOS',\n",
       " 'lower+4': 'givisiez',\n",
       " 'pos+4': 'NE',\n",
       " 'is_punct+4': 'False',\n",
       " 'shape+4': 'Xxxxx'}"
      ]
     },
     "execution_count": 22,
     "metadata": {},
     "output_type": "execute_result"
    }
   ],
   "source": [
    "tok_feat_df.iloc[0]['tok_features']"
   ]
  },
  {
   "cell_type": "code",
   "execution_count": 10,
   "id": "077b64db",
   "metadata": {},
   "outputs": [
    {
     "name": "stdout",
     "output_type": "stream",
     "text": [
      "    IDENTIFIER                                       doc_features\n",
      "0         ID-1  [{'token': 'YU', 'pos_fine': 'NE', 'lemma': 'Y...\n",
      "1         ID-2  [{'token': 'Emacite', 'pos_fine': 'NN', 'lemma...\n",
      "2         ID-3  [{'token': 'Anopug', 'pos_fine': 'NN', 'lemma'...\n",
      "3         ID-4  [{'token': 'Presseservice', 'pos_fine': 'NN', ...\n",
      "4         ID-5  [{'token': 'Auyeci', 'pos_fine': 'NE', 'lemma'...\n",
      "..         ...                                                ...\n",
      "995     ID-996  [{'token': 'Yopec', 'pos_fine': 'NE', 'lemma':...\n",
      "996     ID-997  [{'token': 'Huwib', 'pos_fine': 'NE', 'lemma':...\n",
      "997     ID-998  [{'token': 'Asile', 'pos_fine': 'NN', 'lemma':...\n",
      "998     ID-999  [{'token': 'Boulangerie', 'pos_fine': 'NE', 'l...\n",
      "999    ID-1000  [{'token': 'Duwev', 'pos_fine': 'ADJA', 'lemma...\n",
      "\n",
      "[1000 rows x 2 columns]\n",
      "    IDENTIFIER                                         annotation\n",
      "0         ID-1                           [O, p, j, p, O, O, p, O]\n",
      "1         ID-2  [j, j, j, j, j, p, wd, wd, wd, p, wd, wd, wd, ...\n",
      "2         ID-3                              [n, p, d, d, d, d, d]\n",
      "3         ID-4                                          [n, n, n]\n",
      "4         ID-5                                       [n, n, n, d]\n",
      "..         ...                                                ...\n",
      "995     ID-996  [n, n, n, p, O, p, O, a, a, a, a, a, p, O, d, ...\n",
      "996     ID-997                                             [j, j]\n",
      "997     ID-998            [O, p, O, O, p, n, n, p, d, d, d, d, d]\n",
      "998     ID-999  [n, n, n, n, O, d, d, d, d, d, O, O, O, O, O, ...\n",
      "999    ID-1000  [j, j, p, O, O, p, O, O, O, O, O, O, O, p, O, ...\n",
      "\n",
      "[1000 rows x 2 columns]\n"
     ]
    }
   ],
   "source": [
    "print(doc_feat_df)\n",
    "print(doc_anno)"
   ]
  },
  {
   "cell_type": "markdown",
   "id": "0ff527b4",
   "metadata": {},
   "source": [
    "## Train"
   ]
  },
  {
   "cell_type": "code",
   "execution_count": 11,
   "id": "ae13c793",
   "metadata": {},
   "outputs": [
    {
     "name": "stdout",
     "output_type": "stream",
     "text": [
      "['ID-1', 'ID-2', 'ID-3', 'ID-4', 'ID-5', 'ID-6', 'ID-7', 'ID-8', 'ID-9', 'ID-10', 'ID-11', 'ID-12', 'ID-13', 'ID-14', 'ID-15', 'ID-16', 'ID-17', 'ID-18', 'ID-19', 'ID-20', 'ID-21', 'ID-22', 'ID-23', 'ID-24', 'ID-25', 'ID-26', 'ID-27', 'ID-28', 'ID-29', 'ID-30', 'ID-31', 'ID-32', 'ID-33', 'ID-34', 'ID-35', 'ID-36', 'ID-37', 'ID-38', 'ID-39', 'ID-40', 'ID-41', 'ID-42', 'ID-43', 'ID-44', 'ID-45', 'ID-46', 'ID-47', 'ID-48', 'ID-49', 'ID-50', 'ID-51', 'ID-52', 'ID-53', 'ID-54', 'ID-55', 'ID-56', 'ID-57', 'ID-58', 'ID-59', 'ID-60', 'ID-61', 'ID-62', 'ID-63', 'ID-64', 'ID-65', 'ID-66', 'ID-67', 'ID-68', 'ID-69', 'ID-70', 'ID-71', 'ID-72', 'ID-73', 'ID-74', 'ID-75', 'ID-76', 'ID-77', 'ID-78', 'ID-79', 'ID-80', 'ID-81', 'ID-82', 'ID-83', 'ID-84', 'ID-85', 'ID-86', 'ID-87', 'ID-88', 'ID-89', 'ID-90', 'ID-91', 'ID-92', 'ID-93', 'ID-94', 'ID-95', 'ID-96', 'ID-97', 'ID-98', 'ID-99', 'ID-100', 'ID-101', 'ID-102', 'ID-103', 'ID-104', 'ID-105', 'ID-106', 'ID-107', 'ID-108', 'ID-109', 'ID-110', 'ID-111', 'ID-112', 'ID-113', 'ID-114', 'ID-115', 'ID-116', 'ID-117', 'ID-118', 'ID-119', 'ID-120', 'ID-121', 'ID-122', 'ID-123', 'ID-124', 'ID-125', 'ID-126', 'ID-127', 'ID-128', 'ID-129', 'ID-130', 'ID-131', 'ID-132', 'ID-133', 'ID-134', 'ID-135', 'ID-136', 'ID-137', 'ID-138', 'ID-139', 'ID-140', 'ID-141', 'ID-142', 'ID-143', 'ID-144', 'ID-145', 'ID-146', 'ID-147', 'ID-148', 'ID-149', 'ID-150', 'ID-151', 'ID-152', 'ID-153', 'ID-154', 'ID-155', 'ID-156', 'ID-157', 'ID-158', 'ID-159', 'ID-160', 'ID-161', 'ID-162', 'ID-163', 'ID-164', 'ID-165', 'ID-166', 'ID-167', 'ID-168', 'ID-169', 'ID-170', 'ID-171', 'ID-172', 'ID-173', 'ID-174', 'ID-175', 'ID-176', 'ID-177', 'ID-178', 'ID-179', 'ID-180', 'ID-181', 'ID-182', 'ID-183', 'ID-184', 'ID-185', 'ID-186', 'ID-187', 'ID-188', 'ID-189', 'ID-190', 'ID-191', 'ID-192', 'ID-193', 'ID-194', 'ID-195', 'ID-196', 'ID-197', 'ID-198', 'ID-199', 'ID-200', 'ID-201', 'ID-202', 'ID-203', 'ID-204', 'ID-205', 'ID-206', 'ID-207', 'ID-208', 'ID-209', 'ID-210', 'ID-211', 'ID-212', 'ID-213', 'ID-214', 'ID-215', 'ID-216', 'ID-217', 'ID-218', 'ID-219', 'ID-220', 'ID-221', 'ID-222', 'ID-223', 'ID-224', 'ID-225', 'ID-226', 'ID-227', 'ID-228', 'ID-229', 'ID-230', 'ID-231', 'ID-232', 'ID-233', 'ID-234', 'ID-235', 'ID-236', 'ID-237', 'ID-238', 'ID-239', 'ID-240', 'ID-241', 'ID-242', 'ID-243', 'ID-244', 'ID-245', 'ID-246', 'ID-247', 'ID-248', 'ID-249', 'ID-250', 'ID-251', 'ID-252', 'ID-253', 'ID-254', 'ID-255', 'ID-256', 'ID-257', 'ID-258', 'ID-259', 'ID-260', 'ID-261', 'ID-262', 'ID-263', 'ID-264', 'ID-265', 'ID-266', 'ID-267', 'ID-268', 'ID-269', 'ID-270', 'ID-271', 'ID-272', 'ID-273', 'ID-274', 'ID-275', 'ID-276', 'ID-277', 'ID-278', 'ID-279', 'ID-280', 'ID-281', 'ID-282', 'ID-283', 'ID-284', 'ID-285', 'ID-286', 'ID-287', 'ID-288', 'ID-289', 'ID-290', 'ID-291', 'ID-292', 'ID-293', 'ID-294', 'ID-295', 'ID-296', 'ID-297', 'ID-298', 'ID-299', 'ID-300', 'ID-301', 'ID-302', 'ID-303', 'ID-304', 'ID-305', 'ID-306', 'ID-307', 'ID-308', 'ID-309', 'ID-310', 'ID-311', 'ID-312', 'ID-313', 'ID-314', 'ID-315', 'ID-316', 'ID-317', 'ID-318', 'ID-319', 'ID-320', 'ID-321', 'ID-322', 'ID-323', 'ID-324', 'ID-325', 'ID-326', 'ID-327', 'ID-328', 'ID-329', 'ID-330', 'ID-331', 'ID-332', 'ID-333', 'ID-334', 'ID-335', 'ID-336', 'ID-337', 'ID-338', 'ID-339', 'ID-340', 'ID-341', 'ID-342', 'ID-343', 'ID-344', 'ID-345', 'ID-346', 'ID-347', 'ID-348', 'ID-349', 'ID-350', 'ID-351', 'ID-352', 'ID-353', 'ID-354', 'ID-355', 'ID-356', 'ID-357', 'ID-358', 'ID-359', 'ID-360', 'ID-361', 'ID-362', 'ID-363', 'ID-364', 'ID-365', 'ID-366', 'ID-367', 'ID-368', 'ID-369', 'ID-370', 'ID-371', 'ID-372', 'ID-373', 'ID-374', 'ID-375', 'ID-376', 'ID-377', 'ID-378', 'ID-379', 'ID-380', 'ID-381', 'ID-382', 'ID-383', 'ID-384', 'ID-385', 'ID-386', 'ID-387', 'ID-388', 'ID-389', 'ID-390', 'ID-391', 'ID-392', 'ID-393', 'ID-394', 'ID-395', 'ID-396', 'ID-397', 'ID-398', 'ID-399', 'ID-400', 'ID-401', 'ID-402', 'ID-403', 'ID-404', 'ID-405', 'ID-406', 'ID-407', 'ID-408', 'ID-409', 'ID-410', 'ID-411', 'ID-412', 'ID-413', 'ID-414', 'ID-415', 'ID-416', 'ID-417', 'ID-418', 'ID-419', 'ID-420', 'ID-421', 'ID-422', 'ID-423', 'ID-424', 'ID-425', 'ID-426', 'ID-427', 'ID-428', 'ID-429', 'ID-430', 'ID-431', 'ID-432', 'ID-433', 'ID-434', 'ID-435', 'ID-436', 'ID-437', 'ID-438', 'ID-439', 'ID-440', 'ID-441', 'ID-442', 'ID-443', 'ID-444', 'ID-445', 'ID-446', 'ID-447', 'ID-448', 'ID-449', 'ID-450', 'ID-451', 'ID-452', 'ID-453', 'ID-454', 'ID-455', 'ID-456', 'ID-457', 'ID-458', 'ID-459', 'ID-460', 'ID-461', 'ID-462', 'ID-463', 'ID-464', 'ID-465', 'ID-466', 'ID-467', 'ID-468', 'ID-469', 'ID-470', 'ID-471', 'ID-472', 'ID-473', 'ID-474', 'ID-475', 'ID-476', 'ID-477', 'ID-478', 'ID-479', 'ID-480', 'ID-481', 'ID-482', 'ID-483', 'ID-484', 'ID-485', 'ID-486', 'ID-487', 'ID-488', 'ID-489', 'ID-490', 'ID-491', 'ID-492', 'ID-493', 'ID-494', 'ID-495', 'ID-496', 'ID-497', 'ID-498', 'ID-499', 'ID-500', 'ID-501', 'ID-502', 'ID-503', 'ID-504', 'ID-505', 'ID-506', 'ID-507', 'ID-508', 'ID-509', 'ID-510', 'ID-511', 'ID-512', 'ID-513', 'ID-514', 'ID-515', 'ID-516', 'ID-517', 'ID-518', 'ID-519', 'ID-520', 'ID-521', 'ID-522', 'ID-523', 'ID-524', 'ID-525', 'ID-526', 'ID-527', 'ID-528', 'ID-529', 'ID-530', 'ID-531', 'ID-532', 'ID-533', 'ID-534', 'ID-535', 'ID-536', 'ID-537', 'ID-538', 'ID-539', 'ID-540', 'ID-541', 'ID-542', 'ID-543', 'ID-544', 'ID-545', 'ID-546', 'ID-547', 'ID-548', 'ID-549', 'ID-550', 'ID-551', 'ID-552', 'ID-553', 'ID-554', 'ID-555', 'ID-556', 'ID-557', 'ID-558', 'ID-559', 'ID-560', 'ID-561', 'ID-562', 'ID-563', 'ID-564', 'ID-565', 'ID-566', 'ID-567', 'ID-568', 'ID-569', 'ID-570', 'ID-571', 'ID-572', 'ID-573', 'ID-574', 'ID-575', 'ID-576', 'ID-577', 'ID-578', 'ID-579', 'ID-580', 'ID-581', 'ID-582', 'ID-583', 'ID-584', 'ID-585', 'ID-586', 'ID-587', 'ID-588', 'ID-589', 'ID-590', 'ID-591', 'ID-592', 'ID-593', 'ID-594', 'ID-595', 'ID-596', 'ID-597', 'ID-598', 'ID-599', 'ID-600', 'ID-601', 'ID-602', 'ID-603', 'ID-604', 'ID-605', 'ID-606', 'ID-607', 'ID-608', 'ID-609', 'ID-610', 'ID-611', 'ID-612', 'ID-613', 'ID-614', 'ID-615', 'ID-616', 'ID-617', 'ID-618', 'ID-619', 'ID-620', 'ID-621', 'ID-622', 'ID-623', 'ID-624', 'ID-625', 'ID-626', 'ID-627', 'ID-628', 'ID-629', 'ID-630', 'ID-631', 'ID-632', 'ID-633', 'ID-634', 'ID-635', 'ID-636', 'ID-637', 'ID-638', 'ID-639', 'ID-640', 'ID-641', 'ID-642', 'ID-643', 'ID-644', 'ID-645', 'ID-646', 'ID-647', 'ID-648', 'ID-649', 'ID-650', 'ID-651', 'ID-652', 'ID-653', 'ID-654', 'ID-655', 'ID-656', 'ID-657', 'ID-658', 'ID-659', 'ID-660', 'ID-661', 'ID-662', 'ID-663', 'ID-664', 'ID-665', 'ID-666', 'ID-667', 'ID-668', 'ID-669', 'ID-670', 'ID-671', 'ID-672', 'ID-673', 'ID-674', 'ID-675', 'ID-676', 'ID-677', 'ID-678', 'ID-679', 'ID-680', 'ID-681', 'ID-682', 'ID-683', 'ID-684', 'ID-685', 'ID-686', 'ID-687', 'ID-688', 'ID-689', 'ID-690', 'ID-691', 'ID-692', 'ID-693', 'ID-694', 'ID-695', 'ID-696', 'ID-697', 'ID-698', 'ID-699', 'ID-700', 'ID-701', 'ID-702', 'ID-703', 'ID-704', 'ID-705', 'ID-706', 'ID-707', 'ID-708', 'ID-709', 'ID-710', 'ID-711', 'ID-712', 'ID-713', 'ID-714', 'ID-715', 'ID-716', 'ID-717', 'ID-718', 'ID-719', 'ID-720', 'ID-721', 'ID-722', 'ID-723', 'ID-724', 'ID-725', 'ID-726', 'ID-727', 'ID-728', 'ID-729', 'ID-730', 'ID-731', 'ID-732', 'ID-733', 'ID-734', 'ID-735', 'ID-736', 'ID-737', 'ID-738', 'ID-739', 'ID-740', 'ID-741', 'ID-742', 'ID-743', 'ID-744', 'ID-745', 'ID-746', 'ID-747', 'ID-748', 'ID-749', 'ID-750', 'ID-751', 'ID-752', 'ID-753', 'ID-754', 'ID-755', 'ID-756', 'ID-757', 'ID-758', 'ID-759', 'ID-760', 'ID-761', 'ID-762', 'ID-763', 'ID-764', 'ID-765', 'ID-766', 'ID-767', 'ID-768', 'ID-769', 'ID-770', 'ID-771', 'ID-772', 'ID-773', 'ID-774', 'ID-775', 'ID-776', 'ID-777', 'ID-778', 'ID-779', 'ID-780', 'ID-781', 'ID-782', 'ID-783', 'ID-784', 'ID-785', 'ID-786', 'ID-787', 'ID-788', 'ID-789', 'ID-790', 'ID-791', 'ID-792', 'ID-793', 'ID-794', 'ID-795', 'ID-796', 'ID-797', 'ID-798', 'ID-799', 'ID-800', 'ID-801', 'ID-802', 'ID-803', 'ID-804', 'ID-805', 'ID-806', 'ID-807', 'ID-808', 'ID-809', 'ID-810', 'ID-811', 'ID-812', 'ID-813', 'ID-814', 'ID-815', 'ID-816', 'ID-817', 'ID-818', 'ID-819', 'ID-820', 'ID-821', 'ID-822', 'ID-823', 'ID-824', 'ID-825', 'ID-826', 'ID-827', 'ID-828', 'ID-829', 'ID-830', 'ID-831', 'ID-832', 'ID-833', 'ID-834', 'ID-835', 'ID-836', 'ID-837', 'ID-838', 'ID-839', 'ID-840', 'ID-841', 'ID-842', 'ID-843', 'ID-844', 'ID-845', 'ID-846', 'ID-847', 'ID-848', 'ID-849', 'ID-850', 'ID-851', 'ID-852', 'ID-853', 'ID-854', 'ID-855', 'ID-856', 'ID-857', 'ID-858', 'ID-859', 'ID-860', 'ID-861', 'ID-862', 'ID-863', 'ID-864', 'ID-865', 'ID-866', 'ID-867', 'ID-868', 'ID-869', 'ID-870', 'ID-871', 'ID-872', 'ID-873', 'ID-874', 'ID-875', 'ID-876', 'ID-877', 'ID-878', 'ID-879', 'ID-880', 'ID-881', 'ID-882', 'ID-883', 'ID-884', 'ID-885', 'ID-886', 'ID-887', 'ID-888', 'ID-889', 'ID-890', 'ID-891', 'ID-892', 'ID-893', 'ID-894', 'ID-895', 'ID-896', 'ID-897', 'ID-898', 'ID-899', 'ID-900', 'ID-901', 'ID-902', 'ID-903', 'ID-904', 'ID-905', 'ID-906', 'ID-907', 'ID-908', 'ID-909', 'ID-910', 'ID-911', 'ID-912', 'ID-913', 'ID-914', 'ID-915', 'ID-916', 'ID-917', 'ID-918', 'ID-919', 'ID-920', 'ID-921', 'ID-922', 'ID-923', 'ID-924', 'ID-925', 'ID-926', 'ID-927', 'ID-928', 'ID-929', 'ID-930', 'ID-931', 'ID-932', 'ID-933', 'ID-934', 'ID-935', 'ID-936', 'ID-937', 'ID-938', 'ID-939', 'ID-940', 'ID-941', 'ID-942', 'ID-943', 'ID-944', 'ID-945', 'ID-946', 'ID-947', 'ID-948', 'ID-949', 'ID-950', 'ID-951', 'ID-952', 'ID-953', 'ID-954', 'ID-955', 'ID-956', 'ID-957', 'ID-958', 'ID-959', 'ID-960', 'ID-961', 'ID-962', 'ID-963', 'ID-964', 'ID-965', 'ID-966', 'ID-967', 'ID-968', 'ID-969', 'ID-970', 'ID-971', 'ID-972', 'ID-973', 'ID-974', 'ID-975', 'ID-976', 'ID-977', 'ID-978', 'ID-979', 'ID-980', 'ID-981', 'ID-982', 'ID-983', 'ID-984', 'ID-985', 'ID-986', 'ID-987', 'ID-988', 'ID-989', 'ID-990', 'ID-991', 'ID-992', 'ID-993', 'ID-994', 'ID-995', 'ID-996', 'ID-997', 'ID-998', 'ID-999', 'ID-1000']\n"
     ]
    }
   ],
   "source": [
    "doc_ids = doc_anno[id_field]\n",
    "print(doc_ids.tolist())"
   ]
  },
  {
   "cell_type": "code",
   "execution_count": 12,
   "id": "67ceca30",
   "metadata": {},
   "outputs": [
    {
     "name": "stdout",
     "output_type": "stream",
     "text": [
      "800 200\n"
     ]
    }
   ],
   "source": [
    "## train-test split (over document ids): 80% train -- 20% test\n",
    "docs_train, docs_test = train_test_split(doc_ids, test_size=0.2, random_state=42)\n",
    "print(len(docs_train), len(docs_test))"
   ]
  },
  {
   "cell_type": "code",
   "execution_count": 13,
   "id": "df90b05a",
   "metadata": {},
   "outputs": [
    {
     "name": "stdout",
     "output_type": "stream",
     "text": [
      "29      ID-30\n",
      "535    ID-536\n",
      "695    ID-696\n",
      "557    ID-558\n",
      "836    ID-837\n",
      "596    ID-597\n",
      "165    ID-166\n",
      "918    ID-919\n",
      "495    ID-496\n",
      "824    ID-825\n",
      "Name: IDENTIFIER, dtype: object\n"
     ]
    }
   ],
   "source": [
    "print(docs_train[:10])"
   ]
  },
  {
   "cell_type": "code",
   "execution_count": 14,
   "id": "d2da0520",
   "metadata": {},
   "outputs": [
    {
     "name": "stdout",
     "output_type": "stream",
     "text": [
      "(800, 2)\n",
      "(800, 2)\n",
      "    IDENTIFIER                                         annotation\n",
      "0         ID-1                           [O, p, j, p, O, O, p, O]\n",
      "1         ID-2  [j, j, j, j, j, p, wd, wd, wd, p, wd, wd, wd, ...\n",
      "2         ID-3                              [n, p, d, d, d, d, d]\n",
      "3         ID-4                                          [n, n, n]\n",
      "4         ID-5                                       [n, n, n, d]\n",
      "..         ...                                                ...\n",
      "993     ID-994                        [O, O, O, p, O, O, n, n, n]\n",
      "994     ID-995                                          [n, n, n]\n",
      "996     ID-997                                             [j, j]\n",
      "997     ID-998            [O, p, O, O, p, n, n, p, d, d, d, d, d]\n",
      "999    ID-1000  [j, j, p, O, O, p, O, O, O, O, O, O, O, p, O, ...\n",
      "\n",
      "[800 rows x 2 columns]\n",
      "    IDENTIFIER                                       doc_features\n",
      "0         ID-1  [{'token': 'YU', 'pos_fine': 'NE', 'lemma': 'Y...\n",
      "1         ID-2  [{'token': 'Emacite', 'pos_fine': 'NN', 'lemma...\n",
      "2         ID-3  [{'token': 'Anopug', 'pos_fine': 'NN', 'lemma'...\n",
      "3         ID-4  [{'token': 'Presseservice', 'pos_fine': 'NN', ...\n",
      "4         ID-5  [{'token': 'Auyeci', 'pos_fine': 'NE', 'lemma'...\n",
      "..         ...                                                ...\n",
      "993     ID-994  [{'token': 'Bourses', 'pos_fine': 'NE', 'lemma...\n",
      "994     ID-995  [{'token': 'Goyub', 'pos_fine': 'NE', 'lemma':...\n",
      "996     ID-997  [{'token': 'Huwib', 'pos_fine': 'NE', 'lemma':...\n",
      "997     ID-998  [{'token': 'Asile', 'pos_fine': 'NN', 'lemma':...\n",
      "999    ID-1000  [{'token': 'Duwev', 'pos_fine': 'ADJA', 'lemma...\n",
      "\n",
      "[800 rows x 2 columns]\n",
      "(200, 2)\n"
     ]
    }
   ],
   "source": [
    "# divide document-level features and annotations into training and test set\n",
    "\n",
    "in_train_docs = doc_feat_df[id_field].isin(docs_train)\n",
    "\n",
    "doc_feat_df_train = doc_feat_df[in_train_docs]  # training set features\n",
    "print(doc_feat_df_train.shape)\n",
    "doc_anno_train = doc_anno[in_train_docs]\n",
    "print(doc_anno_train.shape)\n",
    "print(doc_anno_train)\n",
    "print(doc_feat_df_train)\n",
    "\n",
    "\n",
    "doc_feat_df_test = doc_feat_df[~in_train_docs].copy()\n",
    "doc_anno_test = doc_feat_df[~in_train_docs].copy()\n",
    "print(doc_anno_test.shape)"
   ]
  },
  {
   "cell_type": "code",
   "execution_count": 15,
   "id": "b29608fb",
   "metadata": {},
   "outputs": [
    {
     "name": "stdout",
     "output_type": "stream",
     "text": [
      "(9284, 3) (9284, 3)\n",
      "      IDENTIFIER  td-idx annotation\n",
      "0           ID-1       0          O\n",
      "1           ID-1       1          p\n",
      "2           ID-1       2          j\n",
      "3           ID-1       3          p\n",
      "4           ID-1       4          O\n",
      "...          ...     ...        ...\n",
      "11655    ID-1000   11655         wd\n",
      "11656    ID-1000   11656         wd\n",
      "11657    ID-1000   11657         wd\n",
      "11658    ID-1000   11658         wd\n",
      "11659    ID-1000   11659          O\n",
      "\n",
      "[9284 rows x 3 columns]\n",
      "      IDENTIFIER  td-idx                                       tok_features\n",
      "0           ID-1       0  {'token': 'YU', 'pos_fine': 'NE', 'lemma': 'YU...\n",
      "1           ID-1       1  {'token': ':', 'pos_fine': '$.', 'lemma': ':',...\n",
      "2           ID-1       2  {'token': 'Vahuret', 'pos_fine': 'NE', 'lemma'...\n",
      "3           ID-1       3  {'token': ',', 'pos_fine': '$,', 'lemma': ',',...\n",
      "4           ID-1       4  {'token': 'Givisiez', 'pos_fine': 'NE', 'lemma...\n",
      "...          ...     ...                                                ...\n",
      "11655    ID-1000   11655  {'token': '.', 'pos_fine': '$.', 'lemma': '.',...\n",
      "11656    ID-1000   11656  {'token': '6', 'pos_fine': 'CARD', 'lemma': '6...\n",
      "11657    ID-1000   11657  {'token': '.', 'pos_fine': '$.', 'lemma': '.',...\n",
      "11658    ID-1000   11658  {'token': '02', 'pos_fine': 'CARD', 'lemma': '...\n",
      "11659    ID-1000   11659  {'token': 'Gegenstandslos', 'pos_fine': 'NN', ...\n",
      "\n",
      "[9284 rows x 3 columns]\n",
      "(2376, 3)\n"
     ]
    }
   ],
   "source": [
    "# divide token-level features and annotations into training and test set\n",
    "\n",
    "in_train_toks = tok_anno[id_field].isin(docs_train)\n",
    "\n",
    "tok_feat_df_train = tok_feat_df[in_train_toks]\n",
    "tok_anno_train = tok_anno[in_train_toks]\n",
    "print(tok_feat_df_train.shape, tok_anno_train.shape)\n",
    "print(tok_anno_train)\n",
    "print(tok_feat_df_train)\n",
    "\n",
    "tok_feat_df_test = tok_feat_df[~in_train_toks].copy()\n",
    "tok_anno_test = tok_anno[~in_train_toks].copy()\n",
    "print(tok_anno_test.shape)"
   ]
  },
  {
   "cell_type": "code",
   "execution_count": 16,
   "id": "0f61a7e4",
   "metadata": {},
   "outputs": [
    {
     "name": "stderr",
     "output_type": "stream",
     "text": [
      "INFO:root:Training CRF classifier...\n",
      "INFO:root:CRF model: training completed.\n",
      "INFO:root:Training MLP Classifier...\n",
      "INFO:root:MLP model: training completed.\n",
      "INFO:root:Training SVM Classifier...\n",
      "INFO:root:SVM model: training completed\n",
      "INFO:root:Training of ensemble subsystems completed.\n"
     ]
    }
   ],
   "source": [
    "crf_model, mlp_model, svm_model, vectorizer = train_classifiers(doc_feat_df_train,\n",
    "                                                                doc_anno_train,\n",
    "                                                                tok_feat_df_train,\n",
    "                                                                tok_anno_train)\n",
    "\n",
    "models_dict = {'crf_model': crf_model, 'mlp_model': mlp_model, 'svm_model': svm_model, 'vectorizer': vectorizer}"
   ]
  },
  {
   "cell_type": "markdown",
   "id": "b5919688",
   "metadata": {},
   "source": [
    "## Apply"
   ]
  },
  {
   "cell_type": "code",
   "execution_count": 17,
   "id": "5d31aefd",
   "metadata": {},
   "outputs": [],
   "source": [
    "models = BARModels(models_dict=models_dict, relabeler=True)"
   ]
  },
  {
   "cell_type": "code",
   "execution_count": 18,
   "id": "1798c0b6",
   "metadata": {},
   "outputs": [
    {
     "name": "stderr",
     "output_type": "stream",
     "text": [
      "INFO:root:Applying models...\n",
      "INFO:root:Ensembling...\n",
      "INFO:root:Applying relabeling...\n"
     ]
    }
   ],
   "source": [
    "test_preds = models.predict_labels(doc_feat_df_test, tok_feat_df_test, id_field=id_field)"
   ]
  },
  {
   "cell_type": "code",
   "execution_count": 19,
   "id": "8a28cb32",
   "metadata": {},
   "outputs": [
    {
     "data": {
      "text/html": [
       "<div>\n",
       "<style scoped>\n",
       "    .dataframe tbody tr th:only-of-type {\n",
       "        vertical-align: middle;\n",
       "    }\n",
       "\n",
       "    .dataframe tbody tr th {\n",
       "        vertical-align: top;\n",
       "    }\n",
       "\n",
       "    .dataframe thead th {\n",
       "        text-align: right;\n",
       "    }\n",
       "</style>\n",
       "<table border=\"1\" class=\"dataframe\">\n",
       "  <thead>\n",
       "    <tr style=\"text-align: right;\">\n",
       "      <th></th>\n",
       "      <th>IDENTIFIER</th>\n",
       "      <th>td-idx</th>\n",
       "      <th>token</th>\n",
       "      <th>prediction</th>\n",
       "      <th>blackout_label</th>\n",
       "    </tr>\n",
       "  </thead>\n",
       "  <tbody>\n",
       "    <tr>\n",
       "      <th>0</th>\n",
       "      <td>ID-11</td>\n",
       "      <td>69</td>\n",
       "      <td>Tacé</td>\n",
       "      <td>n</td>\n",
       "      <td>True</td>\n",
       "    </tr>\n",
       "    <tr>\n",
       "      <th>1</th>\n",
       "      <td>ID-11</td>\n",
       "      <td>70</td>\n",
       "      <td>,</td>\n",
       "      <td>p</td>\n",
       "      <td>False</td>\n",
       "    </tr>\n",
       "    <tr>\n",
       "      <th>2</th>\n",
       "      <td>ID-11</td>\n",
       "      <td>71</td>\n",
       "      <td>Matr.</td>\n",
       "      <td>O</td>\n",
       "      <td>False</td>\n",
       "    </tr>\n",
       "    <tr>\n",
       "      <th>3</th>\n",
       "      <td>ID-11</td>\n",
       "      <td>72</td>\n",
       "      <td>-</td>\n",
       "      <td>p</td>\n",
       "      <td>False</td>\n",
       "    </tr>\n",
       "    <tr>\n",
       "      <th>4</th>\n",
       "      <td>ID-11</td>\n",
       "      <td>73</td>\n",
       "      <td>Nr.</td>\n",
       "      <td>O</td>\n",
       "      <td>False</td>\n",
       "    </tr>\n",
       "    <tr>\n",
       "      <th>5</th>\n",
       "      <td>ID-11</td>\n",
       "      <td>74</td>\n",
       "      <td>414</td>\n",
       "      <td>a</td>\n",
       "      <td>True</td>\n",
       "    </tr>\n",
       "    <tr>\n",
       "      <th>6</th>\n",
       "      <td>ID-11</td>\n",
       "      <td>75</td>\n",
       "      <td>.</td>\n",
       "      <td>a</td>\n",
       "      <td>True</td>\n",
       "    </tr>\n",
       "    <tr>\n",
       "      <th>7</th>\n",
       "      <td>ID-11</td>\n",
       "      <td>76</td>\n",
       "      <td>24</td>\n",
       "      <td>a</td>\n",
       "      <td>True</td>\n",
       "    </tr>\n",
       "    <tr>\n",
       "      <th>8</th>\n",
       "      <td>ID-11</td>\n",
       "      <td>77</td>\n",
       "      <td>.</td>\n",
       "      <td>a</td>\n",
       "      <td>True</td>\n",
       "    </tr>\n",
       "    <tr>\n",
       "      <th>9</th>\n",
       "      <td>ID-11</td>\n",
       "      <td>78</td>\n",
       "      <td>386</td>\n",
       "      <td>a</td>\n",
       "      <td>True</td>\n",
       "    </tr>\n",
       "    <tr>\n",
       "      <th>10</th>\n",
       "      <td>ID-11</td>\n",
       "      <td>79</td>\n",
       "      <td>,</td>\n",
       "      <td>p</td>\n",
       "      <td>False</td>\n",
       "    </tr>\n",
       "    <tr>\n",
       "      <th>11</th>\n",
       "      <td>ID-11</td>\n",
       "      <td>80</td>\n",
       "      <td>geb.</td>\n",
       "      <td>O</td>\n",
       "      <td>False</td>\n",
       "    </tr>\n",
       "    <tr>\n",
       "      <th>12</th>\n",
       "      <td>ID-11</td>\n",
       "      <td>81</td>\n",
       "      <td>23</td>\n",
       "      <td>d</td>\n",
       "      <td>True</td>\n",
       "    </tr>\n",
       "    <tr>\n",
       "      <th>13</th>\n",
       "      <td>ID-11</td>\n",
       "      <td>82</td>\n",
       "      <td>.</td>\n",
       "      <td>d</td>\n",
       "      <td>True</td>\n",
       "    </tr>\n",
       "    <tr>\n",
       "      <th>14</th>\n",
       "      <td>ID-11</td>\n",
       "      <td>83</td>\n",
       "      <td>07</td>\n",
       "      <td>d</td>\n",
       "      <td>True</td>\n",
       "    </tr>\n",
       "    <tr>\n",
       "      <th>15</th>\n",
       "      <td>ID-11</td>\n",
       "      <td>84</td>\n",
       "      <td>.</td>\n",
       "      <td>d</td>\n",
       "      <td>True</td>\n",
       "    </tr>\n",
       "    <tr>\n",
       "      <th>16</th>\n",
       "      <td>ID-11</td>\n",
       "      <td>85</td>\n",
       "      <td>2013</td>\n",
       "      <td>d</td>\n",
       "      <td>True</td>\n",
       "    </tr>\n",
       "    <tr>\n",
       "      <th>17</th>\n",
       "      <td>ID-11</td>\n",
       "      <td>86</td>\n",
       "      <td>,</td>\n",
       "      <td>p</td>\n",
       "      <td>False</td>\n",
       "    </tr>\n",
       "    <tr>\n",
       "      <th>18</th>\n",
       "      <td>ID-11</td>\n",
       "      <td>87</td>\n",
       "      <td>Fall</td>\n",
       "      <td>O</td>\n",
       "      <td>False</td>\n",
       "    </tr>\n",
       "    <tr>\n",
       "      <th>19</th>\n",
       "      <td>ID-11</td>\n",
       "      <td>88</td>\n",
       "      <td>Nr.</td>\n",
       "      <td>O</td>\n",
       "      <td>False</td>\n",
       "    </tr>\n",
       "  </tbody>\n",
       "</table>\n",
       "</div>"
      ],
      "text/plain": [
       "   IDENTIFIER  td-idx  token prediction  blackout_label\n",
       "0       ID-11      69  Tacé          n            True\n",
       "1       ID-11      70      ,          p           False\n",
       "2       ID-11      71  Matr.          O           False\n",
       "3       ID-11      72      -          p           False\n",
       "4       ID-11      73    Nr.          O           False\n",
       "5       ID-11      74    414          a            True\n",
       "6       ID-11      75      .          a            True\n",
       "7       ID-11      76     24          a            True\n",
       "8       ID-11      77      .          a            True\n",
       "9       ID-11      78    386          a            True\n",
       "10      ID-11      79      ,          p           False\n",
       "11      ID-11      80   geb.          O           False\n",
       "12      ID-11      81     23          d            True\n",
       "13      ID-11      82      .          d            True\n",
       "14      ID-11      83     07          d            True\n",
       "15      ID-11      84      .          d            True\n",
       "16      ID-11      85   2013          d            True\n",
       "17      ID-11      86      ,          p           False\n",
       "18      ID-11      87   Fall          O           False\n",
       "19      ID-11      88    Nr.          O           False"
      ]
     },
     "execution_count": 19,
     "metadata": {},
     "output_type": "execute_result"
    }
   ],
   "source": [
    "test_preds.head(20)"
   ]
  },
  {
   "cell_type": "markdown",
   "id": "5845b059",
   "metadata": {},
   "source": [
    "## Evaluate"
   ]
  },
  {
   "cell_type": "markdown",
   "id": "956ac07c",
   "metadata": {},
   "source": [
    "### evaluate labels"
   ]
  },
  {
   "cell_type": "code",
   "execution_count": 23,
   "id": "1b4181c8",
   "metadata": {},
   "outputs": [
    {
     "name": "stdout",
     "output_type": "stream",
     "text": [
      "              precision    recall  f1-score   support\n",
      "\n",
      "           O      0.995     0.967     0.981       807\n",
      "           a      1.000     0.974     0.987        38\n",
      "           d      0.984     0.995     0.990       383\n",
      "           j      0.549     0.376     0.446       133\n",
      "           n      0.838     0.952     0.891       522\n",
      "           p      0.998     0.981     0.989       429\n",
      "          wd      0.887     0.859     0.873        64\n",
      "\n",
      "    accuracy                          0.935      2376\n",
      "   macro avg      0.893     0.872     0.880      2376\n",
      "weighted avg      0.932     0.935     0.931      2376\n",
      "\n"
     ]
    }
   ],
   "source": [
    "y_test = tok_anno_test['annotation']\n",
    "y_pred = test_preds['prediction']\n",
    "print(metrics.classification_report(y_test, y_pred, digits=3))"
   ]
  },
  {
   "cell_type": "code",
   "execution_count": 24,
   "id": "95ef2ebb",
   "metadata": {},
   "outputs": [
    {
     "data": {
      "image/png": "[encoded data removed]",
      "text/plain": [
       "<Figure size 432x288 with 2 Axes>"
      ]
     },
     "metadata": {
      "needs_background": "light"
     },
     "output_type": "display_data"
    }
   ],
   "source": [
    "labels = ['n', 'a', 'd', 'j', 'O', 'p']\n",
    "plot_confusion_matrix(y_test, y_pred, labels)"
   ]
  },
  {
   "cell_type": "markdown",
   "id": "ef06669a",
   "metadata": {},
   "source": [
    "### evaluate censoring performance"
   ]
  },
  {
   "cell_type": "code",
   "execution_count": 25,
   "id": "d92a1412",
   "metadata": {},
   "outputs": [
    {
     "data": {
      "text/html": [
       "<div>\n",
       "<style scoped>\n",
       "    .dataframe tbody tr th:only-of-type {\n",
       "        vertical-align: middle;\n",
       "    }\n",
       "\n",
       "    .dataframe tbody tr th {\n",
       "        vertical-align: top;\n",
       "    }\n",
       "\n",
       "    .dataframe thead th {\n",
       "        text-align: right;\n",
       "    }\n",
       "</style>\n",
       "<table border=\"1\" class=\"dataframe\">\n",
       "  <thead>\n",
       "    <tr style=\"text-align: right;\">\n",
       "      <th></th>\n",
       "      <th>IDENTIFIER</th>\n",
       "      <th>td-idx</th>\n",
       "      <th>annotation</th>\n",
       "      <th>blackout_label</th>\n",
       "    </tr>\n",
       "  </thead>\n",
       "  <tbody>\n",
       "    <tr>\n",
       "      <th>69</th>\n",
       "      <td>ID-11</td>\n",
       "      <td>69</td>\n",
       "      <td>n</td>\n",
       "      <td>True</td>\n",
       "    </tr>\n",
       "    <tr>\n",
       "      <th>70</th>\n",
       "      <td>ID-11</td>\n",
       "      <td>70</td>\n",
       "      <td>p</td>\n",
       "      <td>False</td>\n",
       "    </tr>\n",
       "    <tr>\n",
       "      <th>71</th>\n",
       "      <td>ID-11</td>\n",
       "      <td>71</td>\n",
       "      <td>O</td>\n",
       "      <td>False</td>\n",
       "    </tr>\n",
       "    <tr>\n",
       "      <th>72</th>\n",
       "      <td>ID-11</td>\n",
       "      <td>72</td>\n",
       "      <td>p</td>\n",
       "      <td>False</td>\n",
       "    </tr>\n",
       "    <tr>\n",
       "      <th>73</th>\n",
       "      <td>ID-11</td>\n",
       "      <td>73</td>\n",
       "      <td>O</td>\n",
       "      <td>False</td>\n",
       "    </tr>\n",
       "    <tr>\n",
       "      <th>...</th>\n",
       "      <td>...</td>\n",
       "      <td>...</td>\n",
       "      <td>...</td>\n",
       "      <td>...</td>\n",
       "    </tr>\n",
       "    <tr>\n",
       "      <th>11632</th>\n",
       "      <td>ID-999</td>\n",
       "      <td>11632</td>\n",
       "      <td>O</td>\n",
       "      <td>False</td>\n",
       "    </tr>\n",
       "    <tr>\n",
       "      <th>11633</th>\n",
       "      <td>ID-999</td>\n",
       "      <td>11633</td>\n",
       "      <td>O</td>\n",
       "      <td>False</td>\n",
       "    </tr>\n",
       "    <tr>\n",
       "      <th>11634</th>\n",
       "      <td>ID-999</td>\n",
       "      <td>11634</td>\n",
       "      <td>O</td>\n",
       "      <td>False</td>\n",
       "    </tr>\n",
       "    <tr>\n",
       "      <th>11635</th>\n",
       "      <td>ID-999</td>\n",
       "      <td>11635</td>\n",
       "      <td>O</td>\n",
       "      <td>False</td>\n",
       "    </tr>\n",
       "    <tr>\n",
       "      <th>11636</th>\n",
       "      <td>ID-999</td>\n",
       "      <td>11636</td>\n",
       "      <td>O</td>\n",
       "      <td>False</td>\n",
       "    </tr>\n",
       "  </tbody>\n",
       "</table>\n",
       "<p>2376 rows × 4 columns</p>\n",
       "</div>"
      ],
      "text/plain": [
       "      IDENTIFIER  td-idx annotation  blackout_label\n",
       "69         ID-11      69          n            True\n",
       "70         ID-11      70          p           False\n",
       "71         ID-11      71          O           False\n",
       "72         ID-11      72          p           False\n",
       "73         ID-11      73          O           False\n",
       "...          ...     ...        ...             ...\n",
       "11632     ID-999   11632          O           False\n",
       "11633     ID-999   11633          O           False\n",
       "11634     ID-999   11634          O           False\n",
       "11635     ID-999   11635          O           False\n",
       "11636     ID-999   11636          O           False\n",
       "\n",
       "[2376 rows x 4 columns]"
      ]
     },
     "execution_count": 25,
     "metadata": {},
     "output_type": "execute_result"
    }
   ],
   "source": [
    "blackout_labels = [\"n\",\"j\",\"d\",\"a\"]\n",
    "tok_anno_test['blackout_label'] = tok_anno_test['annotation'].apply(lambda x: x in blackout_labels)\n",
    "tok_anno_test"
   ]
  },
  {
   "cell_type": "code",
   "execution_count": 26,
   "id": "bbfa0eeb",
   "metadata": {},
   "outputs": [
    {
     "name": "stdout",
     "output_type": "stream",
     "text": [
      "              precision    recall  f1-score   support\n",
      "\n",
      "    blackout      0.951     0.997     0.974      1076\n",
      "        open      0.998     0.958     0.977      1300\n",
      "\n",
      "    accuracy                          0.976      2376\n",
      "   macro avg      0.974     0.977     0.975      2376\n",
      "weighted avg      0.977     0.976     0.976      2376\n",
      "\n"
     ]
    }
   ],
   "source": [
    "y_test_blackout = tok_anno_test['blackout_label'].apply(lambda x: 'blackout' if x else 'open')\n",
    "y_pred_blackout = test_preds['blackout_label'].apply(lambda x: 'blackout' if x else 'open')\n",
    "print(metrics.classification_report(y_test_blackout, y_pred_blackout, digits=3))"
   ]
  },
  {
   "cell_type": "code",
   "execution_count": 27,
   "id": "660c8b88",
   "metadata": {},
   "outputs": [
    {
     "data": {
      "image/png": "[encoded data removed]",
      "text/plain": [
       "<Figure size 432x288 with 2 Axes>"
      ]
     },
     "metadata": {
      "needs_background": "light"
     },
     "output_type": "display_data"
    }
   ],
   "source": [
    "labels = ['blackout', 'open']\n",
    "plot_confusion_matrix(y_test_blackout, y_pred_blackout, labels)"
   ]
  },
  {
   "cell_type": "markdown",
   "id": "97e9b8a2",
   "metadata": {},
   "source": [
    "## K-fold cross validation (this takes some time!)"
   ]
  },
  {
   "cell_type": "code",
   "execution_count": 30,
   "id": "9e0767c9",
   "metadata": {},
   "outputs": [
    {
     "name": "stderr",
     "output_type": "stream",
     "text": [
      "INFO:root:Running fold number: 1\n",
      "INFO:root:Number documents train: 666; Number documentes test: 334\n",
      "INFO:root:Training CRF classifier...\n",
      "INFO:root:CRF model: training completed.\n",
      "INFO:root:Training MLP Classifier...\n",
      "INFO:root:MLP model: training completed.\n",
      "INFO:root:Training SVM Classifier...\n",
      "INFO:root:SVM model: training completed\n",
      "INFO:root:Training of ensemble subsystems completed.\n",
      "INFO:root:Applying models...\n",
      "INFO:root:Ensembling...\n",
      "INFO:root:Applying relabeling...\n",
      "INFO:root:Done.\n",
      "INFO:root:Running fold number: 2\n",
      "INFO:root:Number documents train: 667; Number documentes test: 333\n",
      "INFO:root:Training CRF classifier...\n",
      "INFO:root:CRF model: training completed.\n",
      "INFO:root:Training MLP Classifier...\n",
      "INFO:root:MLP model: training completed.\n",
      "INFO:root:Training SVM Classifier...\n",
      "INFO:root:SVM model: training completed\n",
      "INFO:root:Training of ensemble subsystems completed.\n",
      "INFO:root:Applying models...\n",
      "INFO:root:Ensembling...\n",
      "INFO:root:Applying relabeling...\n",
      "INFO:root:Done.\n",
      "INFO:root:Running fold number: 3\n",
      "INFO:root:Number documents train: 667; Number documentes test: 333\n",
      "INFO:root:Training CRF classifier...\n",
      "INFO:root:CRF model: training completed.\n",
      "INFO:root:Training MLP Classifier...\n",
      "INFO:root:MLP model: training completed.\n",
      "INFO:root:Training SVM Classifier...\n",
      "INFO:root:SVM model: training completed\n",
      "INFO:root:Training of ensemble subsystems completed.\n",
      "INFO:root:Applying models...\n",
      "INFO:root:Ensembling...\n",
      "INFO:root:Applying relabeling...\n",
      "INFO:root:Done.\n"
     ]
    }
   ],
   "source": [
    "k = 3\n",
    "\n",
    "kf = KFold(n_splits=k, random_state=None, shuffle=False)\n",
    "\n",
    "kf_indices = dict()\n",
    "kf_preds = dict()\n",
    "kf_preds_proba = dict()\n",
    "kf_scores = dict()\n",
    "\n",
    "\n",
    "for i, (train_index, test_index) in enumerate(kf.split(doc_ids)):\n",
    "    fold_number = i+1\n",
    "    logging.info(f'Running fold number: {fold_number}')\n",
    "    \n",
    "    docs_train, docs_test = doc_ids[train_index], doc_ids[test_index]\n",
    "    \n",
    "    logging.info(f'Number documents train: {len(train_index)}; Number documentes test: {len(test_index)}')\n",
    "    \n",
    "    in_train_toks = tok_anno[id_field].isin(docs_train)\n",
    "    in_train_docs = doc_anno[id_field].isin(docs_train)\n",
    "    \n",
    "    tok_feat_df_train = tok_feat_df[in_train_toks]  # training set features (token-level)\n",
    "    tok_anno_train = tok_anno[in_train_toks]  # training set labels (token-level)\n",
    "    tok_feat_df_test = tok_feat_df[~in_train_toks]  # test set features (token-level)\n",
    "    tok_anno_test = tok_anno[~in_train_toks]  # test set labels (token-level)\n",
    "    \n",
    "    doc_feat_df_train = doc_feat_df[in_train_docs]  # training set features (document-level)\n",
    "    doc_anno_train = doc_anno[in_train_docs]  # training set labels (document-level)\n",
    "    doc_feat_df_test = doc_feat_df[~in_train_docs] # test set features (document-level)\n",
    "    doc_anno_test = doc_feat_df[~in_train_docs]  # test set labels (document-level)\n",
    "    \n",
    "    idx_dict = {'train':docs_train, 'test':docs_test}\n",
    "    \n",
    "    crf_model, mlp_model, svm_model, vectorizer = train_classifiers(doc_feat_df_train,\n",
    "                                                                doc_anno_train,\n",
    "                                                                tok_feat_df_train,\n",
    "                                                                tok_anno_train)\n",
    "\n",
    "    models_dict = {'crf_model': crf_model, 'mlp_model': mlp_model, 'svm_model': svm_model, 'vectorizer': vectorizer}\n",
    "    \n",
    "    test_preds = models.predict_labels(doc_feat_df_test, tok_feat_df_test, id_field=id_field)\n",
    "    \n",
    "    \n",
    "    kf_indices[f'run-{fold_number}'] = idx_dict\n",
    "    kf_preds[f'run-{fold_number}'] = test_preds\n",
    "    \n",
    "    y_test = tok_anno_test['annotation']\n",
    "    y_pred = test_preds['prediction']\n",
    "    \n",
    "    kf_scores[f'run-{fold_number}'] = metrics.classification_report(y_test, y_pred, digits=3, output_dict=True)\n",
    "    \n",
    "logging.info('Done.')\n",
    "    "
   ]
  },
  {
   "cell_type": "markdown",
   "id": "2f95eee3",
   "metadata": {},
   "source": [
    "## Evaluate after k-fold cross validation"
   ]
  },
  {
   "cell_type": "code",
   "execution_count": 31,
   "id": "ea6ae6f3",
   "metadata": {},
   "outputs": [
    {
     "data": {
      "text/html": [
       "<div>\n",
       "<style scoped>\n",
       "    .dataframe tbody tr th:only-of-type {\n",
       "        vertical-align: middle;\n",
       "    }\n",
       "\n",
       "    .dataframe tbody tr th {\n",
       "        vertical-align: top;\n",
       "    }\n",
       "\n",
       "    .dataframe thead th {\n",
       "        text-align: right;\n",
       "    }\n",
       "</style>\n",
       "<table border=\"1\" class=\"dataframe\">\n",
       "  <thead>\n",
       "    <tr style=\"text-align: right;\">\n",
       "      <th></th>\n",
       "      <th>O</th>\n",
       "      <th>a</th>\n",
       "      <th>d</th>\n",
       "      <th>j</th>\n",
       "      <th>n</th>\n",
       "      <th>p</th>\n",
       "      <th>wd</th>\n",
       "      <th>accuracy</th>\n",
       "      <th>macro avg</th>\n",
       "      <th>weighted avg</th>\n",
       "    </tr>\n",
       "  </thead>\n",
       "  <tbody>\n",
       "    <tr>\n",
       "      <th>precision</th>\n",
       "      <td>0.999</td>\n",
       "      <td>1.000</td>\n",
       "      <td>0.997</td>\n",
       "      <td>0.942</td>\n",
       "      <td>0.963</td>\n",
       "      <td>0.999</td>\n",
       "      <td>0.987</td>\n",
       "      <td>NaN</td>\n",
       "      <td>0.984</td>\n",
       "      <td>0.987</td>\n",
       "    </tr>\n",
       "    <tr>\n",
       "      <th>recall</th>\n",
       "      <td>0.993</td>\n",
       "      <td>0.994</td>\n",
       "      <td>0.999</td>\n",
       "      <td>0.883</td>\n",
       "      <td>0.990</td>\n",
       "      <td>0.996</td>\n",
       "      <td>0.983</td>\n",
       "      <td>NaN</td>\n",
       "      <td>0.977</td>\n",
       "      <td>0.987</td>\n",
       "    </tr>\n",
       "    <tr>\n",
       "      <th>f1-score</th>\n",
       "      <td>0.996</td>\n",
       "      <td>0.997</td>\n",
       "      <td>0.998</td>\n",
       "      <td>0.911</td>\n",
       "      <td>0.976</td>\n",
       "      <td>0.998</td>\n",
       "      <td>0.985</td>\n",
       "      <td>NaN</td>\n",
       "      <td>0.980</td>\n",
       "      <td>0.987</td>\n",
       "    </tr>\n",
       "    <tr>\n",
       "      <th>support</th>\n",
       "      <td>1257.333</td>\n",
       "      <td>61.667</td>\n",
       "      <td>642.000</td>\n",
       "      <td>239.333</td>\n",
       "      <td>843.000</td>\n",
       "      <td>671.333</td>\n",
       "      <td>172.000</td>\n",
       "      <td>NaN</td>\n",
       "      <td>3886.667</td>\n",
       "      <td>3886.667</td>\n",
       "    </tr>\n",
       "  </tbody>\n",
       "</table>\n",
       "</div>"
      ],
      "text/plain": [
       "                  O       a        d        j        n        p       wd  \\\n",
       "precision     0.999   1.000    0.997    0.942    0.963    0.999    0.987   \n",
       "recall        0.993   0.994    0.999    0.883    0.990    0.996    0.983   \n",
       "f1-score      0.996   0.997    0.998    0.911    0.976    0.998    0.985   \n",
       "support    1257.333  61.667  642.000  239.333  843.000  671.333  172.000   \n",
       "\n",
       "           accuracy  macro avg  weighted avg  \n",
       "precision       NaN      0.984         0.987  \n",
       "recall          NaN      0.977         0.987  \n",
       "f1-score        NaN      0.980         0.987  \n",
       "support         NaN   3886.667      3886.667  "
      ]
     },
     "execution_count": 31,
     "metadata": {},
     "output_type": "execute_result"
    }
   ],
   "source": [
    "## Average evaluation scores (across folds)\n",
    "\n",
    "cv_eval = pd.DataFrame(kf_scores).T\n",
    "\n",
    "avg_eval = pd.DataFrame()\n",
    "\n",
    "for c in cv_eval.columns:\n",
    "    avg_eval[c] = cv_eval[c].apply(pd.Series).mean()\n",
    "    \n",
    "avg_eval.round(3)"
   ]
  },
  {
   "cell_type": "code",
   "execution_count": 32,
   "id": "af3783ff",
   "metadata": {},
   "outputs": [
    {
     "data": {
      "text/html": [
       "<div>\n",
       "<style scoped>\n",
       "    .dataframe tbody tr th:only-of-type {\n",
       "        vertical-align: middle;\n",
       "    }\n",
       "\n",
       "    .dataframe tbody tr th {\n",
       "        vertical-align: top;\n",
       "    }\n",
       "\n",
       "    .dataframe thead th {\n",
       "        text-align: right;\n",
       "    }\n",
       "</style>\n",
       "<table border=\"1\" class=\"dataframe\">\n",
       "  <thead>\n",
       "    <tr style=\"text-align: right;\">\n",
       "      <th></th>\n",
       "      <th>IDENTIFIER</th>\n",
       "      <th>td-idx</th>\n",
       "      <th>token</th>\n",
       "      <th>prediction</th>\n",
       "      <th>blackout_label</th>\n",
       "      <th>run_id</th>\n",
       "    </tr>\n",
       "  </thead>\n",
       "  <tbody>\n",
       "    <tr>\n",
       "      <th>0</th>\n",
       "      <td>ID-1</td>\n",
       "      <td>0</td>\n",
       "      <td>YU</td>\n",
       "      <td>O</td>\n",
       "      <td>False</td>\n",
       "      <td>run-1</td>\n",
       "    </tr>\n",
       "    <tr>\n",
       "      <th>1</th>\n",
       "      <td>ID-1</td>\n",
       "      <td>1</td>\n",
       "      <td>:</td>\n",
       "      <td>p</td>\n",
       "      <td>False</td>\n",
       "      <td>run-1</td>\n",
       "    </tr>\n",
       "    <tr>\n",
       "      <th>2</th>\n",
       "      <td>ID-1</td>\n",
       "      <td>2</td>\n",
       "      <td>Vahuret</td>\n",
       "      <td>j</td>\n",
       "      <td>True</td>\n",
       "      <td>run-1</td>\n",
       "    </tr>\n",
       "    <tr>\n",
       "      <th>3</th>\n",
       "      <td>ID-1</td>\n",
       "      <td>3</td>\n",
       "      <td>,</td>\n",
       "      <td>p</td>\n",
       "      <td>False</td>\n",
       "      <td>run-1</td>\n",
       "    </tr>\n",
       "    <tr>\n",
       "      <th>4</th>\n",
       "      <td>ID-1</td>\n",
       "      <td>4</td>\n",
       "      <td>Givisiez</td>\n",
       "      <td>O</td>\n",
       "      <td>False</td>\n",
       "      <td>run-1</td>\n",
       "    </tr>\n",
       "    <tr>\n",
       "      <th>...</th>\n",
       "      <td>...</td>\n",
       "      <td>...</td>\n",
       "      <td>...</td>\n",
       "      <td>...</td>\n",
       "      <td>...</td>\n",
       "      <td>...</td>\n",
       "    </tr>\n",
       "    <tr>\n",
       "      <th>11655</th>\n",
       "      <td>ID-1000</td>\n",
       "      <td>11655</td>\n",
       "      <td>.</td>\n",
       "      <td>wd</td>\n",
       "      <td>False</td>\n",
       "      <td>run-3</td>\n",
       "    </tr>\n",
       "    <tr>\n",
       "      <th>11656</th>\n",
       "      <td>ID-1000</td>\n",
       "      <td>11656</td>\n",
       "      <td>6</td>\n",
       "      <td>wd</td>\n",
       "      <td>False</td>\n",
       "      <td>run-3</td>\n",
       "    </tr>\n",
       "    <tr>\n",
       "      <th>11657</th>\n",
       "      <td>ID-1000</td>\n",
       "      <td>11657</td>\n",
       "      <td>.</td>\n",
       "      <td>wd</td>\n",
       "      <td>False</td>\n",
       "      <td>run-3</td>\n",
       "    </tr>\n",
       "    <tr>\n",
       "      <th>11658</th>\n",
       "      <td>ID-1000</td>\n",
       "      <td>11658</td>\n",
       "      <td>02</td>\n",
       "      <td>wd</td>\n",
       "      <td>False</td>\n",
       "      <td>run-3</td>\n",
       "    </tr>\n",
       "    <tr>\n",
       "      <th>11659</th>\n",
       "      <td>ID-1000</td>\n",
       "      <td>11659</td>\n",
       "      <td>Gegenstandslos</td>\n",
       "      <td>O</td>\n",
       "      <td>False</td>\n",
       "      <td>run-3</td>\n",
       "    </tr>\n",
       "  </tbody>\n",
       "</table>\n",
       "<p>11660 rows × 6 columns</p>\n",
       "</div>"
      ],
      "text/plain": [
       "      IDENTIFIER  td-idx           token prediction  blackout_label run_id\n",
       "0           ID-1       0              YU          O           False  run-1\n",
       "1           ID-1       1               :          p           False  run-1\n",
       "2           ID-1       2         Vahuret          j            True  run-1\n",
       "3           ID-1       3               ,          p           False  run-1\n",
       "4           ID-1       4        Givisiez          O           False  run-1\n",
       "...          ...     ...             ...        ...             ...    ...\n",
       "11655    ID-1000   11655               .         wd           False  run-3\n",
       "11656    ID-1000   11656               6         wd           False  run-3\n",
       "11657    ID-1000   11657               .         wd           False  run-3\n",
       "11658    ID-1000   11658              02         wd           False  run-3\n",
       "11659    ID-1000   11659  Gegenstandslos          O           False  run-3\n",
       "\n",
       "[11660 rows x 6 columns]"
      ]
     },
     "execution_count": 32,
     "metadata": {},
     "output_type": "execute_result"
    }
   ],
   "source": [
    "#congregate predicted labels across all folds\n",
    "\n",
    "preds_congregated = pd.DataFrame()\n",
    "\n",
    "for run in kf_indices:\n",
    "    run_labels = kf_preds[run]\n",
    "    run_labels['run_id'] = run\n",
    "    preds_congregated = preds_congregated.append(run_labels, ignore_index=True)\n",
    "    \n",
    "preds_congregated = preds_congregated.reset_index(drop=True)\n",
    "\n",
    "preds_congregated"
   ]
  },
  {
   "cell_type": "markdown",
   "id": "7d3c8bd0",
   "metadata": {},
   "source": [
    "### evaluate labels"
   ]
  },
  {
   "cell_type": "code",
   "execution_count": 33,
   "id": "7e0af7dc",
   "metadata": {},
   "outputs": [
    {
     "name": "stdout",
     "output_type": "stream",
     "text": [
      "              precision    recall  f1-score   support\n",
      "\n",
      "           O      0.999     0.993     0.996      3772\n",
      "           a      1.000     0.995     0.997       185\n",
      "           d      0.997     0.999     0.998      1926\n",
      "           j      0.939     0.884     0.911       718\n",
      "           n      0.963     0.990     0.976      2529\n",
      "           p      1.000     0.996     0.998      2014\n",
      "          wd      0.986     0.983     0.984       516\n",
      "\n",
      "    accuracy                          0.987     11660\n",
      "   macro avg      0.983     0.977     0.980     11660\n",
      "weighted avg      0.987     0.987     0.987     11660\n",
      "\n"
     ]
    }
   ],
   "source": [
    "y_test = tok_anno['annotation']\n",
    "y_pred = preds_congregated['prediction']\n",
    "\n",
    "print(metrics.classification_report(y_test, y_pred, digits=3))"
   ]
  },
  {
   "cell_type": "code",
   "execution_count": 35,
   "id": "f1717681",
   "metadata": {},
   "outputs": [
    {
     "data": {
      "image/png": "[encoded data removed]",
      "text/plain": [
       "<Figure size 432x288 with 2 Axes>"
      ]
     },
     "metadata": {
      "needs_background": "light"
     },
     "output_type": "display_data"
    }
   ],
   "source": [
    "labels = ['n', 'a', 'd', 'j', 'O', 'p', 'wd']\n",
    "plot_confusion_matrix(y_test, y_pred, labels)"
   ]
  },
  {
   "cell_type": "markdown",
   "id": "24bbaaa2",
   "metadata": {},
   "source": [
    "### evaluate censoring performance"
   ]
  },
  {
   "cell_type": "code",
   "execution_count": 39,
   "id": "4e540e0c",
   "metadata": {},
   "outputs": [
    {
     "data": {
      "text/html": [
       "<div>\n",
       "<style scoped>\n",
       "    .dataframe tbody tr th:only-of-type {\n",
       "        vertical-align: middle;\n",
       "    }\n",
       "\n",
       "    .dataframe tbody tr th {\n",
       "        vertical-align: top;\n",
       "    }\n",
       "\n",
       "    .dataframe thead th {\n",
       "        text-align: right;\n",
       "    }\n",
       "</style>\n",
       "<table border=\"1\" class=\"dataframe\">\n",
       "  <thead>\n",
       "    <tr style=\"text-align: right;\">\n",
       "      <th></th>\n",
       "      <th>IDENTIFIER</th>\n",
       "      <th>td-idx</th>\n",
       "      <th>annotation</th>\n",
       "      <th>blackout_label</th>\n",
       "    </tr>\n",
       "  </thead>\n",
       "  <tbody>\n",
       "    <tr>\n",
       "      <th>0</th>\n",
       "      <td>ID-1</td>\n",
       "      <td>0</td>\n",
       "      <td>O</td>\n",
       "      <td>False</td>\n",
       "    </tr>\n",
       "    <tr>\n",
       "      <th>1</th>\n",
       "      <td>ID-1</td>\n",
       "      <td>1</td>\n",
       "      <td>p</td>\n",
       "      <td>False</td>\n",
       "    </tr>\n",
       "    <tr>\n",
       "      <th>2</th>\n",
       "      <td>ID-1</td>\n",
       "      <td>2</td>\n",
       "      <td>j</td>\n",
       "      <td>True</td>\n",
       "    </tr>\n",
       "    <tr>\n",
       "      <th>3</th>\n",
       "      <td>ID-1</td>\n",
       "      <td>3</td>\n",
       "      <td>p</td>\n",
       "      <td>False</td>\n",
       "    </tr>\n",
       "    <tr>\n",
       "      <th>4</th>\n",
       "      <td>ID-1</td>\n",
       "      <td>4</td>\n",
       "      <td>O</td>\n",
       "      <td>False</td>\n",
       "    </tr>\n",
       "    <tr>\n",
       "      <th>...</th>\n",
       "      <td>...</td>\n",
       "      <td>...</td>\n",
       "      <td>...</td>\n",
       "      <td>...</td>\n",
       "    </tr>\n",
       "    <tr>\n",
       "      <th>11655</th>\n",
       "      <td>ID-1000</td>\n",
       "      <td>11655</td>\n",
       "      <td>wd</td>\n",
       "      <td>False</td>\n",
       "    </tr>\n",
       "    <tr>\n",
       "      <th>11656</th>\n",
       "      <td>ID-1000</td>\n",
       "      <td>11656</td>\n",
       "      <td>wd</td>\n",
       "      <td>False</td>\n",
       "    </tr>\n",
       "    <tr>\n",
       "      <th>11657</th>\n",
       "      <td>ID-1000</td>\n",
       "      <td>11657</td>\n",
       "      <td>wd</td>\n",
       "      <td>False</td>\n",
       "    </tr>\n",
       "    <tr>\n",
       "      <th>11658</th>\n",
       "      <td>ID-1000</td>\n",
       "      <td>11658</td>\n",
       "      <td>wd</td>\n",
       "      <td>False</td>\n",
       "    </tr>\n",
       "    <tr>\n",
       "      <th>11659</th>\n",
       "      <td>ID-1000</td>\n",
       "      <td>11659</td>\n",
       "      <td>O</td>\n",
       "      <td>False</td>\n",
       "    </tr>\n",
       "  </tbody>\n",
       "</table>\n",
       "<p>11660 rows × 4 columns</p>\n",
       "</div>"
      ],
      "text/plain": [
       "      IDENTIFIER  td-idx annotation  blackout_label\n",
       "0           ID-1       0          O           False\n",
       "1           ID-1       1          p           False\n",
       "2           ID-1       2          j            True\n",
       "3           ID-1       3          p           False\n",
       "4           ID-1       4          O           False\n",
       "...          ...     ...        ...             ...\n",
       "11655    ID-1000   11655         wd           False\n",
       "11656    ID-1000   11656         wd           False\n",
       "11657    ID-1000   11657         wd           False\n",
       "11658    ID-1000   11658         wd           False\n",
       "11659    ID-1000   11659          O           False\n",
       "\n",
       "[11660 rows x 4 columns]"
      ]
     },
     "execution_count": 39,
     "metadata": {},
     "output_type": "execute_result"
    }
   ],
   "source": [
    "blackout_labels = [\"n\",\"j\",\"d\",\"a\"]\n",
    "tok_anno['blackout_label'] = tok_anno['annotation'].apply(lambda x: x in blackout_labels)\n",
    "tok_anno"
   ]
  },
  {
   "cell_type": "code",
   "execution_count": 40,
   "id": "88b7ee93",
   "metadata": {},
   "outputs": [
    {
     "name": "stdout",
     "output_type": "stream",
     "text": [
      "              precision    recall  f1-score   support\n",
      "\n",
      "    blackout      0.977     0.999     0.988      5358\n",
      "        open      1.000     0.980     0.990      6302\n",
      "\n",
      "    accuracy                          0.989     11660\n",
      "   macro avg      0.988     0.990     0.989     11660\n",
      "weighted avg      0.989     0.989     0.989     11660\n",
      "\n"
     ]
    }
   ],
   "source": [
    "y_test_blackout = tok_anno['blackout_label'].apply(lambda x: 'blackout' if x else 'open')\n",
    "y_pred_blackout = preds_congregated['blackout_label'].apply(lambda x: 'blackout' if x else 'open')\n",
    "print(metrics.classification_report(y_test_blackout, y_pred_blackout, digits=3))"
   ]
  },
  {
   "cell_type": "code",
   "execution_count": 41,
   "id": "18d517d3",
   "metadata": {},
   "outputs": [
    {
     "data": {
      "image/png": "[encoded data removed]",
      "text/plain": [
       "<Figure size 432x288 with 2 Axes>"
      ]
     },
     "metadata": {
      "needs_background": "light"
     },
     "output_type": "display_data"
    }
   ],
   "source": [
    "labels = ['blackout', 'open']\n",
    "plot_confusion_matrix(y_test_blackout, y_pred_blackout, labels)"
   ]
  },
  {
   "cell_type": "code",
   "execution_count": null,
   "id": "c7cd6df9",
   "metadata": {},
   "outputs": [],
   "source": []
  }
 ],
 "metadata": {
  "kernelspec": {
   "display_name": "bar_env",
   "language": "python",
   "name": "bar_env"
  },
  "language_info": {
   "codemirror_mode": {
    "name": "ipython",
    "version": 3
   },
   "file_extension": ".py",
   "mimetype": "text/x-python",
   "name": "python",
   "nbconvert_exporter": "python",
   "pygments_lexer": "ipython3",
   "version": "3.8.13"
  }
 },
 "nbformat": 4,
 "nbformat_minor": 5
}
